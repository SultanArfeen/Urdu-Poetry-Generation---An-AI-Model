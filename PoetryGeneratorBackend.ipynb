{
 "cells": [
  {
   "cell_type": "code",
   "execution_count": 1,
   "metadata": {
    "tags": [
     "Step 1: Prepare the Dataset"
    ]
   },
   "outputs": [
    {
     "name": "stdout",
     "output_type": "stream",
     "text": [
      "Total characters in dataset: 17681\n",
      "Vocabulary size: 56\n"
     ]
    }
   ],
   "source": [
    "import pandas as pd\n",
    "import numpy as np\n",
    "import torch\n",
    "from torch.utils.data import Dataset, DataLoader\n",
    "\n",
    "# Load the dataset\n",
    "df = pd.read_csv(\"urdu_poetry.csv\")  # Ensure the CSV is in the working directory\n",
    "\n",
    "# Remove label rows and blank rows\n",
    "def is_valid_row(text):\n",
    "    if isinstance(text, str):\n",
    "        text = text.strip()\n",
    "        return text and not text.startswith(\"###\")\n",
    "    return False\n",
    "\n",
    "poetry_lines = df[\"poetry\"][df[\"poetry\"].apply(is_valid_row)].tolist()\n",
    "text_corpus = \"\\n\".join(poetry_lines)\n",
    "\n",
    "print(f\"Total characters in dataset: {len(text_corpus)}\")\n",
    "\n",
    "# Create character-level vocabulary\n",
    "chars = sorted(set(text_corpus))\n",
    "vocab_size = len(chars)\n",
    "print(f\"Vocabulary size: {vocab_size}\")\n",
    "\n",
    "# Create mappings\n",
    "char_to_idx = {ch: i for i, ch in enumerate(chars)}\n",
    "idx_to_char = {i: ch for ch, i in char_to_idx.items()}\n",
    "\n",
    "# Encode text as numerical sequence\n",
    "encoded_text = np.array([char_to_idx[ch] for ch in text_corpus], dtype=np.int32)\n"
   ]
  },
  {
   "cell_type": "code",
   "execution_count": 2,
   "metadata": {
    "tags": [
     "Step 2: Create a Dataset and DataLoader"
    ]
   },
   "outputs": [
    {
     "name": "stdout",
     "output_type": "stream",
     "text": [
      "Dataset size: 17581, Batches per epoch: 275\n"
     ]
    }
   ],
   "source": [
    "class PoetryDataset(Dataset):\n",
    "    def __init__(self, encoded_text, seq_length=100):\n",
    "        self.data = encoded_text\n",
    "        self.seq_length = seq_length\n",
    "\n",
    "    def __len__(self):\n",
    "        return len(self.data) - self.seq_length\n",
    "\n",
    "    def __getitem__(self, idx):\n",
    "        x = self.data[idx : idx + self.seq_length]\n",
    "        y = self.data[idx + 1 : idx + self.seq_length + 1]\n",
    "        return torch.tensor(x, dtype=torch.long), torch.tensor(y, dtype=torch.long)\n",
    "\n",
    "# Hyperparameters\n",
    "seq_length = 100\n",
    "batch_size = 64\n",
    "\n",
    "# Create dataset and DataLoader\n",
    "dataset = PoetryDataset(encoded_text, seq_length=seq_length)\n",
    "dataloader = DataLoader(dataset, batch_size=batch_size, shuffle=True)\n",
    "\n",
    "print(f\"Dataset size: {len(dataset)}, Batches per epoch: {len(dataloader)}\")\n"
   ]
  },
  {
   "cell_type": "code",
   "execution_count": 3,
   "metadata": {
    "tags": [
     "Step 3: Define the Stacked LSTM Model"
    ]
   },
   "outputs": [],
   "source": [
    "import torch.nn as nn\n",
    "\n",
    "class StackedLSTM(nn.Module):\n",
    "    def __init__(self, vocab_size, embedding_dim, hidden_dim, num_layers):\n",
    "        super(StackedLSTM, self).__init__()\n",
    "        self.embedding = nn.Embedding(vocab_size, embedding_dim)\n",
    "        self.lstm = nn.LSTM(embedding_dim, hidden_dim, num_layers=num_layers, batch_first=True)\n",
    "        self.fc = nn.Linear(hidden_dim, vocab_size)\n",
    "\n",
    "    def forward(self, x, hidden):\n",
    "        x = self.embedding(x)\n",
    "        out, hidden = self.lstm(x, hidden)\n",
    "        out = self.fc(out)\n",
    "        return out, hidden\n",
    "\n",
    "    def init_hidden(self, batch_size, device):\n",
    "        return (torch.zeros(num_layers, batch_size, hidden_dim).to(device),\n",
    "                torch.zeros(num_layers, batch_size, hidden_dim).to(device))\n",
    "\n",
    "# Hyperparameters\n",
    "embedding_dim = 128\n",
    "hidden_dim = 256\n",
    "num_layers = 2\n",
    "\n",
    "# Initialize model\n",
    "device = torch.device(\"cuda\" if torch.cuda.is_available() else \"cpu\")\n",
    "model = StackedLSTM(vocab_size, embedding_dim, hidden_dim, num_layers).to(device)\n"
   ]
  },
  {
   "cell_type": "code",
   "execution_count": 12,
   "metadata": {
    "tags": [
     "Step 4: Train the Model"
    ]
   },
   "outputs": [
    {
     "name": "stderr",
     "output_type": "stream",
     "text": [
      "C:\\Users\\sulta\\AppData\\Local\\Temp\\ipykernel_12788\\2946362028.py:9: FutureWarning: `torch.cuda.amp.GradScaler(args...)` is deprecated. Please use `torch.amp.GradScaler('cuda', args...)` instead.\n",
      "  scaler = GradScaler()  # For mixed-precision training (faster on GPUs)\n",
      "Epoch 1/3:   0%|          | 0/275 [00:00<?, ?it/s]"
     ]
    },
    {
     "name": "stderr",
     "output_type": "stream",
     "text": [
      "C:\\Users\\sulta\\AppData\\Local\\Temp\\ipykernel_12788\\2946362028.py:29: FutureWarning: `torch.cuda.amp.autocast(args...)` is deprecated. Please use `torch.amp.autocast('cuda', args...)` instead.\n",
      "  with autocast():  # Use mixed precision for speed\n",
      "                                                                         \r"
     ]
    },
    {
     "name": "stdout",
     "output_type": "stream",
     "text": [
      "Epoch 1/3 - Avg Loss: 0.0834\n"
     ]
    },
    {
     "name": "stderr",
     "output_type": "stream",
     "text": [
      "                                                                         \r"
     ]
    },
    {
     "name": "stdout",
     "output_type": "stream",
     "text": [
      "Epoch 2/3 - Avg Loss: 0.0822\n"
     ]
    },
    {
     "name": "stderr",
     "output_type": "stream",
     "text": [
      "                                                                         \r"
     ]
    },
    {
     "name": "stdout",
     "output_type": "stream",
     "text": [
      "Epoch 3/3 - Avg Loss: 0.0812\n",
      "Model training complete! Model saved to: d:\\Programming stuff\\GenAi A1\\poetry_generator_epoch_20.pth\n"
     ]
    }
   ],
   "source": [
    "import torch.optim as optim\n",
    "from torch.cuda.amp import autocast, GradScaler\n",
    "from tqdm import tqdm  # Progress bar for better monitoring\n",
    "import os\n",
    "\n",
    "# Define loss function and optimizer\n",
    "criterion = nn.CrossEntropyLoss()\n",
    "optimizer = optim.AdamW(model.parameters(), lr=0.002, weight_decay=1e-5)  # AdamW is better than Adam for generalization\n",
    "scaler = GradScaler()  # For mixed-precision training (faster on GPUs)\n",
    "\n",
    "epochs = 3\n",
    "clip_value = 5  # Gradient clipping to avoid exploding gradients\n",
    "\n",
    "for epoch in range(epochs):\n",
    "    model.train()\n",
    "    total_loss = 0\n",
    "\n",
    "    progress_bar = tqdm(dataloader, desc=f\"Epoch {epoch+1}/{epochs}\", leave=False)\n",
    "    \n",
    "    for inputs, targets in progress_bar:\n",
    "        batch_size = inputs.shape[0]  # Dynamic batch size\n",
    "        hidden = model.init_hidden(batch_size, device)  # Initialize hidden state per batch\n",
    "\n",
    "        inputs, targets = inputs.to(device), targets.to(device)\n",
    "        hidden = tuple([h.detach() for h in hidden])  # Prevent backprop through entire history\n",
    "\n",
    "        optimizer.zero_grad()\n",
    "\n",
    "        with autocast():  # Use mixed precision for speed\n",
    "            output, hidden = model(inputs, hidden)\n",
    "            loss = criterion(output.view(-1, vocab_size), targets.view(-1))\n",
    "\n",
    "        scaler.scale(loss).backward()  # Scales loss for better float16 handling\n",
    "        torch.nn.utils.clip_grad_norm_(model.parameters(), clip_value)  # Clip gradients\n",
    "\n",
    "        scaler.step(optimizer)  # Apply scaled gradients\n",
    "        scaler.update()  # Update scaler for next step\n",
    "\n",
    "        total_loss += loss.item()\n",
    "        progress_bar.set_postfix(loss=f\"{loss.item():.4f}\")  # Update progress bar with loss\n",
    "\n",
    "    avg_loss = total_loss / len(dataloader)\n",
    "    print(f\"Epoch {epoch+1}/{epochs} - Avg Loss: {avg_loss:.4f}\")\n",
    "\n",
    "    save_path = os.path.join(os.getcwd(), \"poetry_generator_epoch_20.pth\")\n",
    "\n",
    "# Save the model's state dictionary\n",
    "torch.save(model.state_dict(), save_path)\n",
    "\n",
    "print(f\"Model training complete! Model saved to: {save_path}\")\n",
    "\n"
   ]
  },
  {
   "cell_type": "code",
   "execution_count": 9,
   "metadata": {
    "tags": [
     "Step 5: Generate Text"
    ]
   },
   "outputs": [
    {
     "name": "stdout",
     "output_type": "stream",
     "text": [
      "Mohabbat\n",
      "raushnī aadhī idhar aadhi udhar ek diya rakkha hai aaine mein chehre mein mera na itni tez laan bhi dhok ke thi fasamkin lekin un ki tah par malbus KHush-numā hai na itne ki hum kar-e-mohabbat rahu nakaam mohabbat Romantic\n",
      "havā ke se phaloñ kī dukān bas tarah meri tanhai mein shamil ho dekhne aaya \n"
     ]
    }
   ],
   "source": [
    "def generate_text(model, start_text=\"Mohabbat\", length=300, temperature=1.0):\n",
    "    model.eval()\n",
    "    input_seq = torch.tensor([char_to_idx[ch] for ch in start_text], dtype=torch.long).unsqueeze(0).to(device)\n",
    "    hidden = model.init_hidden(1, device)\n",
    "    generated_text = start_text\n",
    "\n",
    "    for _ in range(length):\n",
    "        output, hidden = model(input_seq, hidden)\n",
    "        logits = output[:, -1, :] / temperature\n",
    "        probs = torch.softmax(logits, dim=-1).detach().cpu().numpy().ravel()\n",
    "        next_idx = np.random.choice(len(probs), p=probs)\n",
    "        next_char = idx_to_char[next_idx]\n",
    "        generated_text += next_char\n",
    "        input_seq = torch.cat([input_seq, torch.tensor([[next_idx]], dtype=torch.long).to(device)], dim=1)[:, 1:]\n",
    "\n",
    "    return generated_text\n",
    "\n",
    "# Generate text example\n",
    "print(generate_text(model, start_text=\"Mohabbat\", length=300))\n"
   ]
  }
 ],
 "metadata": {
  "kernelspec": {
   "display_name": "Python 3",
   "language": "python",
   "name": "python3"
  },
  "language_info": {
   "codemirror_mode": {
    "name": "ipython",
    "version": 3
   },
   "file_extension": ".py",
   "mimetype": "text/x-python",
   "name": "python",
   "nbconvert_exporter": "python",
   "pygments_lexer": "ipython3",
   "version": "3.12.2"
  }
 },
 "nbformat": 4,
 "nbformat_minor": 2
}
